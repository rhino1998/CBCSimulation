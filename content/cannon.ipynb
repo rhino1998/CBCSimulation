{
 "cells": [
  {
   "cell_type": "code",
   "execution_count": 1,
   "id": "bdd3d205-2623-46e3-8974-ccc8416d9569",
   "metadata": {},
   "outputs": [
    {
     "name": "stdout",
     "output_type": "stream",
     "text": [
      "Requirement already satisfied: vector in /opt/homebrew/Cellar/jupyterlab/4.2.5_1/libexec/lib/python3.12/site-packages (1.5.2)\n",
      "Requirement already satisfied: ipywidgets in /opt/homebrew/Cellar/jupyterlab/4.2.5_1/libexec/lib/python3.12/site-packages (8.1.5)\n",
      "Requirement already satisfied: matplotlib in /opt/homebrew/Cellar/jupyterlab/4.2.5_1/libexec/lib/python3.12/site-packages (3.9.2)\n",
      "Requirement already satisfied: ipympl in /opt/homebrew/Cellar/jupyterlab/4.2.5_1/libexec/lib/python3.12/site-packages (0.9.4)\n",
      "Requirement already satisfied: numpy>=1.13.3 in /opt/homebrew/Cellar/jupyterlab/4.2.5_1/libexec/lib/python3.12/site-packages (from vector) (2.0.0)\n",
      "Requirement already satisfied: packaging>=19 in /opt/homebrew/Cellar/jupyterlab/4.2.5_1/libexec/lib/python3.12/site-packages (from vector) (24.1)\n",
      "Requirement already satisfied: comm>=0.1.3 in /opt/homebrew/Cellar/jupyterlab/4.2.5_1/libexec/lib/python3.12/site-packages (from ipywidgets) (0.2.2)\n",
      "Requirement already satisfied: ipython>=6.1.0 in /opt/homebrew/Cellar/jupyterlab/4.2.5_1/libexec/lib/python3.12/site-packages (from ipywidgets) (8.26.0)\n",
      "Requirement already satisfied: traitlets>=4.3.1 in /opt/homebrew/Cellar/jupyterlab/4.2.5_1/libexec/lib/python3.12/site-packages (from ipywidgets) (5.14.3)\n",
      "Requirement already satisfied: widgetsnbextension~=4.0.12 in /opt/homebrew/Cellar/jupyterlab/4.2.5_1/libexec/lib/python3.12/site-packages (from ipywidgets) (4.0.13)\n",
      "Requirement already satisfied: jupyterlab-widgets~=3.0.12 in /opt/homebrew/Cellar/jupyterlab/4.2.5_1/libexec/lib/python3.12/site-packages (from ipywidgets) (3.0.13)\n",
      "Requirement already satisfied: contourpy>=1.0.1 in /opt/homebrew/Cellar/jupyterlab/4.2.5_1/libexec/lib/python3.12/site-packages (from matplotlib) (1.3.0)\n",
      "Requirement already satisfied: cycler>=0.10 in /opt/homebrew/Cellar/jupyterlab/4.2.5_1/libexec/lib/python3.12/site-packages (from matplotlib) (0.12.1)\n",
      "Requirement already satisfied: fonttools>=4.22.0 in /opt/homebrew/Cellar/jupyterlab/4.2.5_1/libexec/lib/python3.12/site-packages (from matplotlib) (4.54.1)\n",
      "Requirement already satisfied: kiwisolver>=1.3.1 in /opt/homebrew/Cellar/jupyterlab/4.2.5_1/libexec/lib/python3.12/site-packages (from matplotlib) (1.4.7)\n",
      "Requirement already satisfied: pillow>=8 in /opt/homebrew/Cellar/jupyterlab/4.2.5_1/libexec/lib/python3.12/site-packages (from matplotlib) (11.0.0)\n",
      "Requirement already satisfied: pyparsing>=2.3.1 in /opt/homebrew/Cellar/jupyterlab/4.2.5_1/libexec/lib/python3.12/site-packages (from matplotlib) (3.2.0)\n",
      "Requirement already satisfied: python-dateutil>=2.7 in /opt/homebrew/Cellar/jupyterlab/4.2.5_1/libexec/lib/python3.12/site-packages (from matplotlib) (2.9.0.post0)\n",
      "Requirement already satisfied: ipython-genutils in /opt/homebrew/Cellar/jupyterlab/4.2.5_1/libexec/lib/python3.12/site-packages (from ipympl) (0.2.0)\n",
      "Requirement already satisfied: decorator in /opt/homebrew/Cellar/jupyterlab/4.2.5_1/libexec/lib/python3.12/site-packages (from ipython>=6.1.0->ipywidgets) (5.1.1)\n",
      "Requirement already satisfied: jedi>=0.16 in /opt/homebrew/Cellar/jupyterlab/4.2.5_1/libexec/lib/python3.12/site-packages (from ipython>=6.1.0->ipywidgets) (0.19.1)\n",
      "Requirement already satisfied: matplotlib-inline in /opt/homebrew/Cellar/jupyterlab/4.2.5_1/libexec/lib/python3.12/site-packages (from ipython>=6.1.0->ipywidgets) (0.1.7)\n",
      "Requirement already satisfied: prompt-toolkit<3.1.0,>=3.0.41 in /opt/homebrew/Cellar/jupyterlab/4.2.5_1/libexec/lib/python3.12/site-packages (from ipython>=6.1.0->ipywidgets) (3.0.47)\n",
      "Requirement already satisfied: pygments>=2.4.0 in /opt/homebrew/Cellar/jupyterlab/4.2.5_1/libexec/lib/python3.12/site-packages (from ipython>=6.1.0->ipywidgets) (2.18.0)\n",
      "Requirement already satisfied: stack-data in /opt/homebrew/Cellar/jupyterlab/4.2.5_1/libexec/lib/python3.12/site-packages (from ipython>=6.1.0->ipywidgets) (0.6.3)\n",
      "Requirement already satisfied: pexpect>4.3 in /opt/homebrew/Cellar/jupyterlab/4.2.5_1/libexec/lib/python3.12/site-packages (from ipython>=6.1.0->ipywidgets) (4.9.0)\n",
      "Requirement already satisfied: six>=1.5 in /opt/homebrew/Cellar/jupyterlab/4.2.5_1/libexec/lib/python3.12/site-packages (from python-dateutil>=2.7->matplotlib) (1.16.0)\n",
      "Requirement already satisfied: parso<0.9.0,>=0.8.3 in /opt/homebrew/Cellar/jupyterlab/4.2.5_1/libexec/lib/python3.12/site-packages (from jedi>=0.16->ipython>=6.1.0->ipywidgets) (0.8.4)\n",
      "Requirement already satisfied: ptyprocess>=0.5 in /opt/homebrew/Cellar/jupyterlab/4.2.5_1/libexec/lib/python3.12/site-packages (from pexpect>4.3->ipython>=6.1.0->ipywidgets) (0.7.0)\n",
      "Requirement already satisfied: wcwidth in /opt/homebrew/Cellar/jupyterlab/4.2.5_1/libexec/lib/python3.12/site-packages (from prompt-toolkit<3.1.0,>=3.0.41->ipython>=6.1.0->ipywidgets) (0.2.13)\n",
      "Requirement already satisfied: executing>=1.2.0 in /opt/homebrew/Cellar/jupyterlab/4.2.5_1/libexec/lib/python3.12/site-packages (from stack-data->ipython>=6.1.0->ipywidgets) (2.0.1)\n",
      "Requirement already satisfied: asttokens>=2.1.0 in /opt/homebrew/Cellar/jupyterlab/4.2.5_1/libexec/lib/python3.12/site-packages (from stack-data->ipython>=6.1.0->ipywidgets) (2.4.1)\n",
      "Requirement already satisfied: pure-eval in /opt/homebrew/Cellar/jupyterlab/4.2.5_1/libexec/lib/python3.12/site-packages (from stack-data->ipython>=6.1.0->ipywidgets) (0.2.3)\n",
      "\n",
      "\u001b[1m[\u001b[0m\u001b[34;49mnotice\u001b[0m\u001b[1;39;49m]\u001b[0m\u001b[39;49m A new release of pip is available: \u001b[0m\u001b[31;49m24.2\u001b[0m\u001b[39;49m -> \u001b[0m\u001b[32;49m24.3.1\u001b[0m\n",
      "\u001b[1m[\u001b[0m\u001b[34;49mnotice\u001b[0m\u001b[1;39;49m]\u001b[0m\u001b[39;49m To update, run: \u001b[0m\u001b[32;49m/opt/homebrew/Cellar/jupyterlab/4.2.5_1/libexec/bin/python -m pip install --upgrade pip\u001b[0m\n",
      "Note: you may need to restart the kernel to use updated packages.\n"
     ]
    }
   ],
   "source": [
    "%pip install vector ipywidgets matplotlib ipympl\n",
    "import pandas as pd \n",
    "import vector\n",
    "import time\n",
    "import random\n",
    "import numpy as np\n",
    "import random\n",
    "import math\n",
    "import uuid\n",
    "import itertools\n",
    "from ipywidgets import interact, interactive, fixed, interact_manual\n",
    "import ipywidgets as widgets\n",
    "from IPython.display import clear_output\n",
    "from matplotlib import pyplot as plt\n",
    "plt.ioff()\n",
    "%matplotlib widget"
   ]
  },
  {
   "cell_type": "code",
   "execution_count": 2,
   "id": "0936cf59-ac62-46a5-894f-9fd59441e7ab",
   "metadata": {},
   "outputs": [],
   "source": [
    "def sim(pitch, speed, drag, grav=0.05, tick=0.05):\n",
    "    t = 0\n",
    "    df = pd.DataFrame(columns=['x', 'y', 'z', 'speed', 'horizontal_speed', 'vertical_speed'])\n",
    "   \n",
    "    pitch = pitch / 180 * math.pi\n",
    "    speed *= tick\n",
    "    pos = vector.obj(x=0,y=0,z=0)\n",
    "    vel = vector.obj(x=speed*math.cos(pitch),y=speed*math.sin(pitch),z=0)\n",
    "    while pos.y >= 0:\n",
    "        curSpeed = vel.mag\n",
    "        horizSpeed = math.sqrt(vel.x**2 + vel.z**2)\n",
    "        vertSpeed = math.sqrt(vel.y**2)\n",
    "        df.loc[t] = {'x': pos.x, 'y': pos.y, 'z': pos.z, 'speed': curSpeed/tick, 'horizontal_speed': horizSpeed/tick, 'vertical_speed': vertSpeed/tick}\n",
    "    \n",
    "        t += tick\n",
    "        pos += vel\n",
    "        dragForce = min(drag(vel, pos), curSpeed)\n",
    "\n",
    "        dragVec = vel / curSpeed * dragForce\n",
    "        vel -= dragVec\n",
    "        vel.y -= grav\n",
    "\n",
    "    return df\n",
    "\n",
    "def drag_current(vel, pos, drag=0.01):\n",
    "    return drag * vel.mag\n",
    "\n",
    "def drag_suggested(vel, pos, drag=0.003):\n",
    "    # NOTE the varying air density by altitude and the quadratic drag\n",
    "    return (drag / (1+pos.y/100)) * vel.mag2"
   ]
  },
  {
   "cell_type": "code",
   "execution_count": 16,
   "id": "d05521c2-037b-4c40-9349-d0f12fcd3f81",
   "metadata": {},
   "outputs": [
    {
     "data": {
      "application/vnd.jupyter.widget-view+json": {
       "model_id": "a0db75fe33bd4c2eb480acd6196d1f9c",
       "version_major": 2,
       "version_minor": 0
      },
      "text/plain": [
       "interactive(children=(FloatSlider(value=320.0, description='muzzle_speed', max=1600.0, min=40.0, step=40.0), O…"
      ]
     },
     "execution_count": 16,
     "metadata": {},
     "output_type": "execute_result"
    }
   ],
   "source": [
    "plt.ioff()\n",
    "fig, axes = plt.subplots(nrows=3, ncols=2, figsize=(10,15), constrained_layout=True)\n",
    "\n",
    "def pitch_scan(muzzle_speed):\n",
    "\n",
    "    for ax in axes.flatten():\n",
    "        ax.clear()\n",
    "    \n",
    "    curr = pd.DataFrame(columns=['dist', 'speed', 'avg_horizontal_speed', 'time', 'altitude'])\n",
    "    sugg = pd.DataFrame(columns=['dist', 'speed', 'avg_horizontal_speed', 'time', 'altitude'])\n",
    "    for pitch in np.linspace(0,90,15):\n",
    "        sugg_data = sim(pitch, muzzle_speed, drag_suggested)\n",
    "        sugg_impact = sugg_data.iloc[-1]\n",
    "        sugg.loc[pitch] = {'dist': sugg_impact.x, 'speed': sugg_impact.speed, 'avg_horizontal_speed': sugg_data.horizontal_speed.mean(), 'time': sugg_impact.name, 'altitude': sugg_data.y.max()}\n",
    "        \n",
    "        curr_data = sim(pitch, muzzle_speed, drag_current)\n",
    "        curr_impact = curr_data.iloc[-1]\n",
    "        curr.loc[pitch] = {'dist': curr_impact.x, 'speed': curr_impact.speed, 'avg_horizontal_speed': curr_data.horizontal_speed.mean(), 'time': curr_impact.name, 'altitude': curr_data.y.max()}\n",
    "    \n",
    "    #df\n",
    "    df = pd.concat([curr, sugg], keys=['current', 'suggested'], names=['drag', 'pitch'])\n",
    "    df = df.unstack('drag')\n",
    "\n",
    "    ax = df[['dist']].plot.line(ax=axes[0, 0],xlabel='Pitch (deg)', title=f'Distance at Firing Pitch with V={muzzle_speed:0.0f}m/s')\n",
    "    ax.legend().title=''\n",
    "    ax=df[['altitude']].plot.line(ax=axes[0,1], xlabel='Pitch (deg)', title=f'Peak Altitude at Firing Pitch with V={muzzle_speed:0.0f}m/s')\n",
    "    ax.legend().title=''\n",
    "    ax=df[['avg_horizontal_speed']].plot.line(ax=axes[1,0],xlabel='Pitch (deg)', title=f'Average Horizontal Speed at Firing Pitch with V={muzzle_speed:0.0f}m/s')\n",
    "    ax.legend().title=''\n",
    "    ax=df[['speed']].plot.line(ax=axes[1,1], xlabel='Pitch (deg)', title=f'Impact Speed at Firing Pitch with V={muzzle_speed:0.0f}m/s')\n",
    "    ax.legend().title=''\n",
    "    ax=df[['time']].plot.line(ax=axes[2,0], xlabel='Pitch (deg)', title=f'Time to Target at Firing Pitch with V={muzzle_speed:0.0f}m/s')\n",
    "    ax.legend().title=''\n",
    "    fig.show()\n",
    "\n",
    "interactive(pitch_scan, muzzle_speed=widgets.FloatSlider(value=320,\n",
    "                                               min=40,\n",
    "                                               max=1600,\n",
    "                                               step=40))"
   ]
  },
  {
   "cell_type": "code",
   "execution_count": 15,
   "id": "56bb40db-7ba0-47ef-bd9a-fae15d1f1b60",
   "metadata": {},
   "outputs": [
    {
     "data": {
      "application/vnd.jupyter.widget-view+json": {
       "model_id": "35748025678c48f092785f735fed64f2",
       "version_major": 2,
       "version_minor": 0
      },
      "text/plain": [
       "interactive(children=(FloatSlider(value=320.0, description='muzzle_speed', max=1600.0, min=40.0, step=40.0), O…"
      ]
     },
     "execution_count": 15,
     "metadata": {},
     "output_type": "execute_result"
    }
   ],
   "source": [
    "plt.ioff()\n",
    "fig, axes = plt.subplots(nrows=4, ncols=2, figsize=(10, 20), constrained_layout=True)\n",
    "    \n",
    "def plot_trajectories(muzzle_speed):\n",
    "    pitches = np.linspace(0,90,9)\n",
    "\n",
    "    for ax in axes.flatten():\n",
    "        ax.clear()\n",
    "    \n",
    "    sugg_datas = []\n",
    "    curr_datas = []\n",
    "    for pitch in pitches:\n",
    "        curr_data = sim(pitch, muzzle_speed, drag_current)\n",
    "        curr_data[['x', 'y']].rename(columns={'y': f'{pitch}°'}).plot.line(x='x', ax=axes[0,0], ylabel='y', title=f'Current Trajectory with V={muzzle_speed:0.0f}m/s')\n",
    "        curr_data[['horizontal_speed', 'x']].rename(columns={'horizontal_speed': f'{pitch}°'}).plot.line(x='x', ax=axes[1,0], ylabel='Horizontal Speed', title=f'Current Horizontal Speed WRT Distance with V={muzzle_speed:0.0f}m/s')\n",
    "        curr_data[['vertical_speed', 'x']].rename(columns={'vertical_speed': f'{pitch}°'}).plot.line(x='x', ax=axes[2,0], ylabel='Vertical Speed', title=f'Current Vertical Speed WRT Distance with V={muzzle_speed:0.0f}m/s')\n",
    "        curr_data[['vertical_speed']].rename(columns={'vertical_speed': f'{pitch}°'}).plot.line(ax=axes[3,0], ylabel='Vertical Speed', title=f'Current Vertical Speed WRT Time with V={muzzle_speed:0.0f}m/s')\n",
    "        sugg_data = sim(pitch, muzzle_speed, drag_suggested)\n",
    "        sugg_data[['x', 'y']].rename(columns={'y': f'{pitch}°'}).plot.line(x='x', ax=axes[0,1], ylabel='y', title=f'Suggested Trajectory with V={muzzle_speed:0.0f}')\n",
    "        sugg_data[['horizontal_speed', 'x']].rename(columns={'horizontal_speed': f'{pitch}°'}).plot.line(x='x', ax=axes[1,1], ylabel='Horizontal Speed', title=f'Suggested Horizontal Speed wrt Distamce with V={muzzle_speed:0.0f}m/s')\n",
    "        sugg_data[['vertical_speed', 'x']].rename(columns={'vertical_speed': f'{pitch}°'}).plot.line(x='x', ax=axes[2,1], ylabel='Vertical Speed', title=f'Suggested Vertical Speed wrt Distamce with V={muzzle_speed:0.0f}m/s')\n",
    "        sugg_data[['vertical_speed']].rename(columns={'vertical_speed': f'{pitch}°'}).plot.line(ax=axes[3,1], ylabel='Vertical Speed', title=f'Suggested Vertical Speed WRT Time with V={muzzle_speed:0.0f}m/s')\n",
    "    fig.show()\n",
    "interactive(plot_trajectories, muzzle_speed = widgets.FloatSlider(value=320,\n",
    "                                               min=40,\n",
    "                                               max=1600,\n",
    "                                               step=40))"
   ]
  }
 ],
 "metadata": {
  "kernelspec": {
   "display_name": "Python 3 (ipykernel)",
   "language": "python",
   "name": "python3"
  },
  "language_info": {
   "codemirror_mode": {
    "name": "ipython",
    "version": 3
   },
   "file_extension": ".py",
   "mimetype": "text/x-python",
   "name": "python",
   "nbconvert_exporter": "python",
   "pygments_lexer": "ipython3",
   "version": "3.12.6"
  }
 },
 "nbformat": 4,
 "nbformat_minor": 5
}
